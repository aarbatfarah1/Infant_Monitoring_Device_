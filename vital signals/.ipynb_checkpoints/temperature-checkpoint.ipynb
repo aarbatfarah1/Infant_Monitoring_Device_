{
 "cells": [
  {
   "cell_type": "code",
   "execution_count": 1,
   "id": "fc2f75da",
   "metadata": {},
   "outputs": [],
   "source": [
    "import matplotlib.pyplot as plt\n",
    "from matplotlib.patches import Rectangle, Ellipse\n",
    "from matplotlib.offsetbox import OffsetImage, AnnotationBbox"
   ]
  },
  {
   "cell_type": "code",
   "execution_count": 2,
   "id": "c27c71b5",
   "metadata": {},
   "outputs": [],
   "source": [
    "def get_thermal_state(temperature):\n",
    "    if temperature in range(35.0,37.3):\n",
    "        return \"Normale\"\n",
    "    elif temperature in range(37.3,38.3):\n",
    "        return \"Fièvre légère\"\n",
    "    elif temperature in range(38.3,39.3):\n",
    "        return \"Fièvre\"\n",
    "    elif temperature in range(39.3,40.7):\n",
    "        return \"Forte fièvre\"\n",
    "    else :\n",
    "        return \"État thermique inconnu\""
   ]
  },
  {
   "cell_type": "code",
   "execution_count": 3,
   "id": "a42f7d87",
   "metadata": {},
   "outputs": [],
   "source": [
    "\n",
    "def visualize_temperature(temperature):\n",
    "    # Create a figure and axis\n",
    "    fig, ax = plt.subplots()\n",
    "\n",
    "    # Set the aspect ratio to be equal\n",
    "    ax.set_aspect('equal', adjustable='box')\n",
    "\n",
    "    # Define the body icon using rectangles and ellipses\n",
    "    body = Rectangle((-0.5, 0), 1, 2, color='lightgray', ec='black')\n",
    "    head = Ellipse((0, 2), 0.5, 0.5, color='lightcoral', ec='black')\n",
    "    thermometer = Rectangle((-0.1, -0.5), 0.2, 2, color='dodgerblue', ec='black')\n",
    "\n",
    "    # Add the body parts to the axis\n",
    "    ax.add_patch(body)\n",
    "    ax.add_patch(head)\n",
    "    ax.add_patch(thermometer)\n",
    "\n",
    "    # Set the temperature value as text\n",
    "    ax.text(0, -0.8, f'Temperature: {temperature}°C', ha='center', fontsize=10)\n",
    "\n",
    "    # Set axis limits and remove axes ticks\n",
    "    ax.set_xlim(-1, 1)\n",
    "    ax.set_ylim(-1, 3)\n",
    "    ax.axis('off')\n",
    "\n",
    "    # Show the plot\n",
    "    plt.show()\n"
   ]
  },
  {
   "cell_type": "code",
   "execution_count": null,
   "id": "b4b909f9",
   "metadata": {},
   "outputs": [],
   "source": [
    "# Example usage\n",
    "body_temperature = 37.5  # Replace with the actual body temperature\n",
    "visualize_temperature(body_temperature)"
   ]
  },
  {
   "cell_type": "code",
   "execution_count": 4,
   "id": "49cd5ddb",
   "metadata": {},
   "outputs": [
    {
     "ename": "TypeError",
     "evalue": "'float' object cannot be interpreted as an integer",
     "output_type": "error",
     "traceback": [
      "\u001b[1;31m---------------------------------------------------------------------------\u001b[0m",
      "\u001b[1;31mTypeError\u001b[0m                                 Traceback (most recent call last)",
      "Cell \u001b[1;32mIn[4], line 34\u001b[0m\n\u001b[0;32m     32\u001b[0m \u001b[38;5;66;03m# Example usage\u001b[39;00m\n\u001b[0;32m     33\u001b[0m body_temperature \u001b[38;5;241m=\u001b[39m \u001b[38;5;241m37.5\u001b[39m  \u001b[38;5;66;03m# Replace with the actual body temperature\u001b[39;00m\n\u001b[1;32m---> 34\u001b[0m visualize_temperature(body_temperature)\n",
      "Cell \u001b[1;32mIn[4], line 19\u001b[0m, in \u001b[0;36mvisualize_temperature\u001b[1;34m(temperature)\u001b[0m\n\u001b[0;32m     16\u001b[0m \u001b[38;5;66;03m# Set the temperature value as text\u001b[39;00m\n\u001b[0;32m     17\u001b[0m ax\u001b[38;5;241m.\u001b[39mtext(\u001b[38;5;241m0\u001b[39m, \u001b[38;5;241m-\u001b[39m\u001b[38;5;241m1\u001b[39m, \u001b[38;5;124mf\u001b[39m\u001b[38;5;124m'\u001b[39m\u001b[38;5;124mTemperature: \u001b[39m\u001b[38;5;132;01m{\u001b[39;00mtemperature\u001b[38;5;132;01m}\u001b[39;00m\u001b[38;5;124m°C\u001b[39m\u001b[38;5;124m'\u001b[39m, ha\u001b[38;5;241m=\u001b[39m\u001b[38;5;124m'\u001b[39m\u001b[38;5;124mcenter\u001b[39m\u001b[38;5;124m'\u001b[39m, fontsize\u001b[38;5;241m=\u001b[39m\u001b[38;5;241m12\u001b[39m)\n\u001b[1;32m---> 19\u001b[0m state\u001b[38;5;241m=\u001b[39mget_thermal_state(temperature)\n\u001b[0;32m     21\u001b[0m \u001b[38;5;66;03m# Display the temperature state phrase\u001b[39;00m\n\u001b[0;32m     22\u001b[0m ax\u001b[38;5;241m.\u001b[39mtext(\u001b[38;5;241m0\u001b[39m, \u001b[38;5;241m-\u001b[39m\u001b[38;5;241m1.5\u001b[39m, \u001b[38;5;124mf\u001b[39m\u001b[38;5;124m'\u001b[39m\u001b[38;5;124mState: \u001b[39m\u001b[38;5;132;01m{\u001b[39;00mstate\u001b[38;5;132;01m}\u001b[39;00m\u001b[38;5;124m'\u001b[39m, ha\u001b[38;5;241m=\u001b[39m\u001b[38;5;124m'\u001b[39m\u001b[38;5;124mcenter\u001b[39m\u001b[38;5;124m'\u001b[39m, fontsize\u001b[38;5;241m=\u001b[39m\u001b[38;5;241m10\u001b[39m)\n",
      "Cell \u001b[1;32mIn[2], line 2\u001b[0m, in \u001b[0;36mget_thermal_state\u001b[1;34m(temperature)\u001b[0m\n\u001b[0;32m      1\u001b[0m \u001b[38;5;28;01mdef\u001b[39;00m \u001b[38;5;21mget_thermal_state\u001b[39m(temperature):\n\u001b[1;32m----> 2\u001b[0m     \u001b[38;5;28;01mif\u001b[39;00m temperature \u001b[38;5;129;01min\u001b[39;00m \u001b[38;5;28mrange\u001b[39m(\u001b[38;5;241m35.0\u001b[39m,\u001b[38;5;241m37.3\u001b[39m):\n\u001b[0;32m      3\u001b[0m         \u001b[38;5;28;01mreturn\u001b[39;00m \u001b[38;5;124m\"\u001b[39m\u001b[38;5;124mNormale\u001b[39m\u001b[38;5;124m\"\u001b[39m\n\u001b[0;32m      4\u001b[0m     \u001b[38;5;28;01melif\u001b[39;00m temperature \u001b[38;5;129;01min\u001b[39;00m \u001b[38;5;28mrange\u001b[39m(\u001b[38;5;241m37.3\u001b[39m,\u001b[38;5;241m38.3\u001b[39m):\n",
      "\u001b[1;31mTypeError\u001b[0m: 'float' object cannot be interpreted as an integer"
     ]
    },
    {
     "data": {
      "image/png": "[encoded data removed]",
      "text/plain": [
       "<Figure size 640x480 with 1 Axes>"
      ]
     },
     "metadata": {},
     "output_type": "display_data"
    }
   ],
   "source": [
    "def visualize_temperature(temperature):\n",
    "    # Create a figure and axis\n",
    "    fig, ax = plt.subplots()\n",
    "\n",
    "    # Set the aspect ratio to be equal\n",
    "    ax.set_aspect('equal', adjustable='box')\n",
    "\n",
    "    # Load personalized thermometer icon\n",
    "    thermometer_icon = plt.imread('thermometer.png')  # Replace with the path to your thermometer icon image file\n",
    "\n",
    "    # Display thermometer icon using OffsetImage\n",
    "    thermometer_imagebox = OffsetImage(thermometer_icon, zoom=0.2)\n",
    "    thermometer_ab = AnnotationBbox(thermometer_imagebox, (0, 0), frameon=False)\n",
    "    ax.add_artist(thermometer_ab)\n",
    "\n",
    "    # Set the temperature value as text\n",
    "    ax.text(0, -1, f'Temperature: {temperature}°C', ha='center', fontsize=12)\n",
    "\n",
    "    state=get_thermal_state(temperature)\n",
    "\n",
    "    # Display the temperature state phrase\n",
    "    ax.text(0, -1.5, f'State: {state}', ha='center', fontsize=10)\n",
    "\n",
    "    # Set axis limits and remove axes ticks\n",
    "    ax.set_xlim(-1, 1)\n",
    "    ax.set_ylim(-2, 1)\n",
    "    ax.axis('off')\n",
    "\n",
    "    # Show the plot\n",
    "    plt.show()\n",
    "\n",
    "# Example usage\n",
    "body_temperature = 37.5  # Replace with the actual body temperature\n",
    "visualize_temperature(body_temperature)\n"
   ]
  },
  {
   "cell_type": "code",
   "execution_count": null,
   "id": "361c9f4c",
   "metadata": {},
   "outputs": [],
   "source": []
  }
 ],
 "metadata": {
  "kernelspec": {
   "display_name": "Python 3 (ipykernel)",
   "language": "python",
   "name": "python3"
  },
  "language_info": {
   "codemirror_mode": {
    "name": "ipython",
    "version": 3
   },
   "file_extension": ".py",
   "mimetype": "text/x-python",
   "name": "python",
   "nbconvert_exporter": "python",
   "pygments_lexer": "ipython3",
   "version": "3.11.3"
  }
 },
 "nbformat": 4,
 "nbformat_minor": 5
}
