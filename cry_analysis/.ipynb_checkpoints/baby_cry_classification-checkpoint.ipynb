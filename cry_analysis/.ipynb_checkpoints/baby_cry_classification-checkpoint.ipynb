{
 "cells": [
  {
   "cell_type": "code",
   "execution_count": 1,
   "metadata": {
    "is_executing": true
   },
   "outputs": [
    {
     "ename": "ModuleNotFoundError",
     "evalue": "No module named 'librosa'",
     "output_type": "error",
     "traceback": [
      "\u001b[1;31m---------------------------------------------------------------------------\u001b[0m",
      "\u001b[1;31mModuleNotFoundError\u001b[0m                       Traceback (most recent call last)",
      "Cell \u001b[1;32mIn[1], line 2\u001b[0m\n\u001b[0;32m      1\u001b[0m \u001b[38;5;28;01mimport\u001b[39;00m \u001b[38;5;21;01mos\u001b[39;00m\n\u001b[1;32m----> 2\u001b[0m \u001b[38;5;28;01mimport\u001b[39;00m \u001b[38;5;21;01mlibrosa\u001b[39;00m\n\u001b[0;32m      3\u001b[0m \u001b[38;5;28;01mimport\u001b[39;00m \u001b[38;5;21;01mnumpy\u001b[39;00m \u001b[38;5;28;01mas\u001b[39;00m \u001b[38;5;21;01mnp\u001b[39;00m\n\u001b[0;32m      4\u001b[0m \u001b[38;5;28;01mimport\u001b[39;00m \u001b[38;5;21;01mmatplotlib\u001b[39;00m\u001b[38;5;21;01m.\u001b[39;00m\u001b[38;5;21;01mpyplot\u001b[39;00m \u001b[38;5;28;01mas\u001b[39;00m \u001b[38;5;21;01mplt\u001b[39;00m\n",
      "\u001b[1;31mModuleNotFoundError\u001b[0m: No module named 'librosa'"
     ]
    }
   ],
   "source": [
    "import os\n",
    "import librosa\n",
    "import numpy as np\n",
    "import matplotlib.pyplot as plt\n",
    "\n",
    "path_to_your_dataset = 'donateacry_corpus_cleaned_and_updated_data'\n",
    "\n",
    "# List of subfolders\n",
    "subfolders = ['belly_pain', 'burping', 'discomfort', 'hungry', 'tired']\n",
    "\n",
    "# Function to save the processed data\n",
    "def save_processed_data(data, label, save_path):\n",
    "    np.savez(save_path, data=data, label=label)\n",
    "\n",
    "for subfolder in subfolders:\n",
    "    folder_path = os.path.join(path_to_your_dataset, subfolder)\n",
    "\n",
    "    for audio_file in os.listdir(folder_path):\n",
    "        if audio_file.endswith(\".wav\"):\n",
    "            audio_path = os.path.join(folder_path, audio_file)\n",
    "\n",
    "            # Load the audio file using Librosa\n",
    "            audio, sr = librosa.load(audio_path)\n",
    "\n",
    "            # Compute the spectrogram\n",
    "            spectrogram = librosa.feature.melspectrogram(y=audio, sr=sr, n_mels=128, fmax=8000)\n",
    "            spectrogram_db = librosa.power_to_db(spectrogram, ref=np.max)\n",
    "\n",
    "            # Save the spectrogram data\n",
    "            save_path_spectrogram = os.path.join(folder_path, f\"{os.path.splitext(audio_file)[0]}_spectrogram.npz\")\n",
    "            save_processed_data(spectrogram_db, subfolder, save_path_spectrogram)\n",
    "\n",
    "            # Compute the MFCCs\n",
    "            mfccs = librosa.feature.mfcc(y=audio, sr=sr, n_mfcc=13)\n",
    "\n",
    "            # Save the MFCC data\n",
    "            save_path_mfcc = os.path.join(folder_path, f\"{os.path.splitext(audio_file)[0]}_mfcc.npz\")\n",
    "            save_processed_data(mfccs, subfolder, save_path_mfcc)\n",
    "\n",
    "# Display a sample spectrogram and MFCC\n",
    "plt.figure(figsize=(12, 8))\n",
    "\n",
    "# Display a sample spectrogram\n",
    "plt.subplot(2, 1, 1)\n",
    "librosa.display.specshow(spectrogram_db, sr=sr, x_axis='time', y_axis='mel')\n",
    "plt.colorbar(format='%+2.0f dB')\n",
    "plt.title('Sample Spectrogram')\n",
    "\n",
    "# Display a sample MFCC\n",
    "plt.subplot(2, 1, 2)\n",
    "librosa.display.specshow(mfccs, sr=sr, x_axis='time')\n",
    "plt.colorbar()\n",
    "plt.title('Sample MFCC')\n",
    "\n",
    "plt.tight_layout()\n",
    "plt.show()\n"
   ]
  },
  {
   "cell_type": "code",
   "execution_count": null,
   "metadata": {},
   "outputs": [],
   "source": []
  }
 ],
 "metadata": {
  "kernelspec": {
   "display_name": "Python 3 (ipykernel)",
   "language": "python",
   "name": "python3"
  },
  "language_info": {
   "codemirror_mode": {
    "name": "ipython",
    "version": 3
   },
   "file_extension": ".py",
   "mimetype": "text/x-python",
   "name": "python",
   "nbconvert_exporter": "python",
   "pygments_lexer": "ipython3",
   "version": "3.11.3"
  }
 },
 "nbformat": 4,
 "nbformat_minor": 2
}
