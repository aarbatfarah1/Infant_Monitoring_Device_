{
 "cells": [
  {
   "cell_type": "code",
   "execution_count": 6,
   "id": "39c16cad",
   "metadata": {},
   "outputs": [],
   "source": [
    "import matplotlib.pyplot as plt\n",
    "from matplotlib.patches import Rectangle, Ellipse\n",
    "from matplotlib.offsetbox import OffsetImage, AnnotationBbox"
   ]
  },
  {
   "cell_type": "code",
   "execution_count": 4,
   "id": "74639ff9",
   "metadata": {},
   "outputs": [],
   "source": [
    "def get_thermal_state(temperature):\n",
    "    if temperature in range(35.0,37.3):\n",
    "        return \"Normale\"\n",
    "    elif temperature in range(37.3,38.3):\n",
    "        return \"Fièvre légère\"\n",
    "    elif temperature in range(38.3,39.3):\n",
    "        return \"Fièvre\"\n",
    "    elif temperature in range(39.3,40.7):\n",
    "        return \"Forte fièvre\"\n",
    "    else :\n",
    "        return \"État thermique inconnu\""
   ]
  },
  {
   "cell_type": "code",
   "execution_count": null,
   "id": "7c3f84e2",
   "metadata": {},
   "outputs": [],
   "source": [
    "\n",
    "def visualize_temperature(temperature):\n",
    "    # Create a figure and axis\n",
    "    fig, ax = plt.subplots()\n",
    "\n",
    "    # Set the aspect ratio to be equal\n",
    "    ax.set_aspect('equal', adjustable='box')\n",
    "\n",
    "    # Define the body icon using rectangles and ellipses\n",
    "    body = Rectangle((-0.5, 0), 1, 2, color='lightgray', ec='black')\n",
    "    head = Ellipse((0, 2), 0.5, 0.5, color='lightcoral', ec='black')\n",
    "    thermometer = Rectangle((-0.1, -0.5), 0.2, 2, color='dodgerblue', ec='black')\n",
    "\n",
    "    # Add the body parts to the axis\n",
    "    ax.add_patch(body)\n",
    "    ax.add_patch(head)\n",
    "    ax.add_patch(thermometer)\n",
    "\n",
    "    # Set the temperature value as text\n",
    "    ax.text(0, -0.8, f'Temperature: {temperature}°C', ha='center', fontsize=10)\n",
    "\n",
    "    # Set axis limits and remove axes ticks\n",
    "    ax.set_xlim(-1, 1)\n",
    "    ax.set_ylim(-1, 3)\n",
    "    ax.axis('off')\n",
    "\n",
    "    # Show the plot\n",
    "    plt.show()\n"
   ]
  },
  {
   "cell_type": "code",
   "execution_count": null,
   "id": "1a70eba1",
   "metadata": {},
   "outputs": [],
   "source": [
    "# Example usage\n",
    "body_temperature = 37.5  # Replace with the actual body temperature\n",
    "visualize_temperature(body_temperature)"
   ]
  },
  {
   "cell_type": "code",
   "execution_count": 5,
   "id": "021d3a28",
   "metadata": {},
   "outputs": [
    {
     "ename": "FileNotFoundError",
     "evalue": "[Errno 2] No such file or directory: 'person_icon.png'",
     "output_type": "error",
     "traceback": [
      "\u001b[1;31m---------------------------------------------------------------------------\u001b[0m",
      "\u001b[1;31mFileNotFoundError\u001b[0m                         Traceback (most recent call last)",
      "Cell \u001b[1;32mIn[5], line 34\u001b[0m\n\u001b[0;32m     32\u001b[0m \u001b[38;5;66;03m# Example usage\u001b[39;00m\n\u001b[0;32m     33\u001b[0m body_temperature \u001b[38;5;241m=\u001b[39m \u001b[38;5;241m37.5\u001b[39m  \u001b[38;5;66;03m# Replace with the actual body temperature\u001b[39;00m\n\u001b[1;32m---> 34\u001b[0m visualize_temperature(body_temperature)\n",
      "Cell \u001b[1;32mIn[5], line 9\u001b[0m, in \u001b[0;36mvisualize_temperature\u001b[1;34m(temperature)\u001b[0m\n\u001b[0;32m      6\u001b[0m ax\u001b[38;5;241m.\u001b[39mset_aspect(\u001b[38;5;124m'\u001b[39m\u001b[38;5;124mequal\u001b[39m\u001b[38;5;124m'\u001b[39m, adjustable\u001b[38;5;241m=\u001b[39m\u001b[38;5;124m'\u001b[39m\u001b[38;5;124mbox\u001b[39m\u001b[38;5;124m'\u001b[39m)\n\u001b[0;32m      8\u001b[0m \u001b[38;5;66;03m# Load personalized icons\u001b[39;00m\n\u001b[1;32m----> 9\u001b[0m person_icon \u001b[38;5;241m=\u001b[39m plt\u001b[38;5;241m.\u001b[39mimread(\u001b[38;5;124m'\u001b[39m\u001b[38;5;124mperson_icon.png\u001b[39m\u001b[38;5;124m'\u001b[39m)  \u001b[38;5;66;03m# Replace with the path to your person icon image file\u001b[39;00m\n\u001b[0;32m     10\u001b[0m thermometer_icon \u001b[38;5;241m=\u001b[39m plt\u001b[38;5;241m.\u001b[39mimread(\u001b[38;5;124m'\u001b[39m\u001b[38;5;124mthermometer.png\u001b[39m\u001b[38;5;124m'\u001b[39m)  \u001b[38;5;66;03m# Replace with the path to your thermometer icon image file\u001b[39;00m\n\u001b[0;32m     12\u001b[0m \u001b[38;5;66;03m# Display personalized icons using OffsetImage\u001b[39;00m\n",
      "File \u001b[1;32m~\\anaconda3\\Lib\\site-packages\\matplotlib\\pyplot.py:2195\u001b[0m, in \u001b[0;36mimread\u001b[1;34m(fname, format)\u001b[0m\n\u001b[0;32m   2193\u001b[0m \u001b[38;5;129m@_copy_docstring_and_deprecators\u001b[39m(matplotlib\u001b[38;5;241m.\u001b[39mimage\u001b[38;5;241m.\u001b[39mimread)\n\u001b[0;32m   2194\u001b[0m \u001b[38;5;28;01mdef\u001b[39;00m \u001b[38;5;21mimread\u001b[39m(fname, \u001b[38;5;28mformat\u001b[39m\u001b[38;5;241m=\u001b[39m\u001b[38;5;28;01mNone\u001b[39;00m):\n\u001b[1;32m-> 2195\u001b[0m     \u001b[38;5;28;01mreturn\u001b[39;00m matplotlib\u001b[38;5;241m.\u001b[39mimage\u001b[38;5;241m.\u001b[39mimread(fname, \u001b[38;5;28mformat\u001b[39m)\n",
      "File \u001b[1;32m~\\anaconda3\\Lib\\site-packages\\matplotlib\\image.py:1563\u001b[0m, in \u001b[0;36mimread\u001b[1;34m(fname, format)\u001b[0m\n\u001b[0;32m   1556\u001b[0m \u001b[38;5;28;01mif\u001b[39;00m \u001b[38;5;28misinstance\u001b[39m(fname, \u001b[38;5;28mstr\u001b[39m) \u001b[38;5;129;01mand\u001b[39;00m \u001b[38;5;28mlen\u001b[39m(parse\u001b[38;5;241m.\u001b[39murlparse(fname)\u001b[38;5;241m.\u001b[39mscheme) \u001b[38;5;241m>\u001b[39m \u001b[38;5;241m1\u001b[39m:\n\u001b[0;32m   1557\u001b[0m     \u001b[38;5;66;03m# Pillow doesn't handle URLs directly.\u001b[39;00m\n\u001b[0;32m   1558\u001b[0m     \u001b[38;5;28;01mraise\u001b[39;00m \u001b[38;5;167;01mValueError\u001b[39;00m(\n\u001b[0;32m   1559\u001b[0m         \u001b[38;5;124m\"\u001b[39m\u001b[38;5;124mPlease open the URL for reading and pass the \u001b[39m\u001b[38;5;124m\"\u001b[39m\n\u001b[0;32m   1560\u001b[0m         \u001b[38;5;124m\"\u001b[39m\u001b[38;5;124mresult to Pillow, e.g. with \u001b[39m\u001b[38;5;124m\"\u001b[39m\n\u001b[0;32m   1561\u001b[0m         \u001b[38;5;124m\"\u001b[39m\u001b[38;5;124m``np.array(PIL.Image.open(urllib.request.urlopen(url)))``.\u001b[39m\u001b[38;5;124m\"\u001b[39m\n\u001b[0;32m   1562\u001b[0m         )\n\u001b[1;32m-> 1563\u001b[0m \u001b[38;5;28;01mwith\u001b[39;00m img_open(fname) \u001b[38;5;28;01mas\u001b[39;00m image:\n\u001b[0;32m   1564\u001b[0m     \u001b[38;5;28;01mreturn\u001b[39;00m (_pil_png_to_float_array(image)\n\u001b[0;32m   1565\u001b[0m             \u001b[38;5;28;01mif\u001b[39;00m \u001b[38;5;28misinstance\u001b[39m(image, PIL\u001b[38;5;241m.\u001b[39mPngImagePlugin\u001b[38;5;241m.\u001b[39mPngImageFile) \u001b[38;5;28;01melse\u001b[39;00m\n\u001b[0;32m   1566\u001b[0m             pil_to_array(image))\n",
      "File \u001b[1;32m~\\anaconda3\\Lib\\site-packages\\PIL\\ImageFile.py:105\u001b[0m, in \u001b[0;36mImageFile.__init__\u001b[1;34m(self, fp, filename)\u001b[0m\n\u001b[0;32m    101\u001b[0m \u001b[38;5;28mself\u001b[39m\u001b[38;5;241m.\u001b[39mdecodermaxblock \u001b[38;5;241m=\u001b[39m MAXBLOCK\n\u001b[0;32m    103\u001b[0m \u001b[38;5;28;01mif\u001b[39;00m is_path(fp):\n\u001b[0;32m    104\u001b[0m     \u001b[38;5;66;03m# filename\u001b[39;00m\n\u001b[1;32m--> 105\u001b[0m     \u001b[38;5;28mself\u001b[39m\u001b[38;5;241m.\u001b[39mfp \u001b[38;5;241m=\u001b[39m \u001b[38;5;28mopen\u001b[39m(fp, \u001b[38;5;124m\"\u001b[39m\u001b[38;5;124mrb\u001b[39m\u001b[38;5;124m\"\u001b[39m)\n\u001b[0;32m    106\u001b[0m     \u001b[38;5;28mself\u001b[39m\u001b[38;5;241m.\u001b[39mfilename \u001b[38;5;241m=\u001b[39m fp\n\u001b[0;32m    107\u001b[0m     \u001b[38;5;28mself\u001b[39m\u001b[38;5;241m.\u001b[39m_exclusive_fp \u001b[38;5;241m=\u001b[39m \u001b[38;5;28;01mTrue\u001b[39;00m\n",
      "\u001b[1;31mFileNotFoundError\u001b[0m: [Errno 2] No such file or directory: 'person_icon.png'"
     ]
    },
    {
     "data": {
      "image/png": "[encoded data removed]",
      "text/plain": [
       "<Figure size 640x480 with 1 Axes>"
      ]
     },
     "metadata": {},
     "output_type": "display_data"
    }
   ],
   "source": [
    "def visualize_temperature(temperature):\n",
    "    # Create a figure and axis\n",
    "    fig, ax = plt.subplots()\n",
    "\n",
    "    # Set the aspect ratio to be equal\n",
    "    ax.set_aspect('equal', adjustable='box')\n",
    "\n",
    "    # Load personalized thermometer icon\n",
    "    thermometer_icon = plt.imread('thermometer.png')  # Replace with the path to your thermometer icon image file\n",
    "\n",
    "    # Display thermometer icon using OffsetImage\n",
    "    thermometer_imagebox = OffsetImage(thermometer_icon, zoom=0.2)\n",
    "    thermometer_ab = AnnotationBbox(thermometer_imagebox, (0, 0), frameon=False)\n",
    "    ax.add_artist(thermometer_ab)\n",
    "\n",
    "    # Set the temperature value as text\n",
    "    ax.text(0, -1, f'Temperature: {temperature}°C', ha='center', fontsize=12)\n",
    "\n",
    "    # Determine the temperature state based on your criteria\n",
    "    if temperature < 35:\n",
    "        state_phrase = 'Very Cold'\n",
    "    elif 35 <= temperature < 37:\n",
    "        state_phrase = 'Normal'\n",
    "    else:\n",
    "        state_phrase = 'High Temperature'\n",
    "\n",
    "    # Display the temperature state phrase\n",
    "    ax.text(0, -1.5, f'State: {state_phrase}', ha='center', fontsize=10)\n",
    "\n",
    "    # Set axis limits and remove axes ticks\n",
    "    ax.set_xlim(-1, 1)\n",
    "    ax.set_ylim(-2, 1)\n",
    "    ax.axis('off')\n",
    "\n",
    "    # Show the plot\n",
    "    plt.show()\n",
    "\n",
    "# Example usage\n",
    "body_temperature = 37.5  # Replace with the actual body temperature\n",
    "visualize_temperature(body_temperature)\n"
   ]
  },
  {
   "cell_type": "code",
   "execution_count": null,
   "id": "bd76ca00",
   "metadata": {},
   "outputs": [],
   "source": []
  }
 ],
 "metadata": {
  "kernelspec": {
   "display_name": "Python 3 (ipykernel)",
   "language": "python",
   "name": "python3"
  },
  "language_info": {
   "codemirror_mode": {
    "name": "ipython",
    "version": 3
   },
   "file_extension": ".py",
   "mimetype": "text/x-python",
   "name": "python",
   "nbconvert_exporter": "python",
   "pygments_lexer": "ipython3",
   "version": "3.11.3"
  }
 },
 "nbformat": 4,
 "nbformat_minor": 5
}
